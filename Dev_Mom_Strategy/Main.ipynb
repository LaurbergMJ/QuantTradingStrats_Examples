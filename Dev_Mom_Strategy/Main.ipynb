{
 "cells": [
  {
   "attachments": {},
   "cell_type": "markdown",
   "metadata": {},
   "source": [
    "### Developing \"Momentum\" Trading Strategy\n",
    "\n"
   ]
  },
  {
   "cell_type": "code",
   "execution_count": 13,
   "metadata": {},
   "outputs": [],
   "source": [
    "import numpy as np \n",
    "import pandas as pd \n",
    "import pandas_datareader as pdr \n",
    "import matplotlib.pyplot as plt"
   ]
  },
  {
   "attachments": {},
   "cell_type": "markdown",
   "metadata": {},
   "source": [
    "### 1. Download data"
   ]
  },
  {
   "cell_type": "code",
   "execution_count": 14,
   "metadata": {},
   "outputs": [],
   "source": [
    "import yfinance as yf \n",
    "yf.pdr_override()"
   ]
  },
  {
   "cell_type": "code",
   "execution_count": 15,
   "metadata": {},
   "outputs": [
    {
     "name": "stdout",
     "output_type": "stream",
     "text": [
      "[*********************100%***********************]  1 of 1 completed\n"
     ]
    }
   ],
   "source": [
    "gld = pdr.data.get_data_yahoo('GLD')"
   ]
  },
  {
   "cell_type": "code",
   "execution_count": 17,
   "metadata": {},
   "outputs": [],
   "source": [
    "day = np.arange(1, len(gld) + 1)\n",
    "gld['day'] = day \n",
    "#gld \n",
    "gld.drop(columns=['Adj Close', 'Volume'], inplace=True)\n",
    "gld = gld[['day', 'Open', 'High', 'Low', 'Close']]"
   ]
  },
  {
   "cell_type": "code",
   "execution_count": 19,
   "metadata": {},
   "outputs": [
    {
     "name": "stdout",
     "output_type": "stream",
     "text": [
      "<class 'pandas.core.frame.DataFrame'>\n",
      "DatetimeIndex: 4570 entries, 2004-11-18 to 2023-01-13\n",
      "Data columns (total 5 columns):\n",
      " #   Column  Non-Null Count  Dtype  \n",
      "---  ------  --------------  -----  \n",
      " 0   day     4570 non-null   int32  \n",
      " 1   Open    4570 non-null   float64\n",
      " 2   High    4570 non-null   float64\n",
      " 3   Low     4570 non-null   float64\n",
      " 4   Close   4570 non-null   float64\n",
      "dtypes: float64(4), int32(1)\n",
      "memory usage: 196.4 KB\n"
     ]
    }
   ],
   "source": [
    "gld.info()"
   ]
  },
  {
   "attachments": {},
   "cell_type": "markdown",
   "metadata": {},
   "source": [
    "### 2. Add data/transform data \n",
    "\n",
    "* Calculate signal based on some price or statistical action\n",
    "* We are going to try a moving average crossover to generate signals \n",
    "* We are always invested either long or short"
   ]
  },
  {
   "attachments": {},
   "cell_type": "markdown",
   "metadata": {},
   "source": [
    "#### Add moving averages to the dataframe"
   ]
  },
  {
   "cell_type": "code",
   "execution_count": 50,
   "metadata": {},
   "outputs": [
    {
     "name": "stderr",
     "output_type": "stream",
     "text": [
      "C:\\Users\\Bruger\\AppData\\Local\\Temp\\ipykernel_30608\\1622788657.py:1: SettingWithCopyWarning: \n",
      "A value is trying to be set on a copy of a slice from a DataFrame.\n",
      "Try using .loc[row_indexer,col_indexer] = value instead\n",
      "\n",
      "See the caveats in the documentation: https://pandas.pydata.org/pandas-docs/stable/user_guide/indexing.html#returning-a-view-versus-a-copy\n",
      "  gld['9-day'] = gld['Close'].rolling(9).mean()\n",
      "C:\\Users\\Bruger\\AppData\\Local\\Temp\\ipykernel_30608\\1622788657.py:2: SettingWithCopyWarning: \n",
      "A value is trying to be set on a copy of a slice from a DataFrame.\n",
      "Try using .loc[row_indexer,col_indexer] = value instead\n",
      "\n",
      "See the caveats in the documentation: https://pandas.pydata.org/pandas-docs/stable/user_guide/indexing.html#returning-a-view-versus-a-copy\n",
      "  gld['21-day'] = gld['Close'].rolling(21).mean()\n"
     ]
    }
   ],
   "source": [
    "gld['9-day'] = gld['Close'].rolling(9).mean()\n",
    "gld['21-day'] = gld['Close'].rolling(21).mean()\n"
   ]
  },
  {
   "cell_type": "code",
   "execution_count": 51,
   "metadata": {},
   "outputs": [
    {
     "data": {
      "text/html": [
       "<div>\n",
       "<style scoped>\n",
       "    .dataframe tbody tr th:only-of-type {\n",
       "        vertical-align: middle;\n",
       "    }\n",
       "\n",
       "    .dataframe tbody tr th {\n",
       "        vertical-align: top;\n",
       "    }\n",
       "\n",
       "    .dataframe thead th {\n",
       "        text-align: right;\n",
       "    }\n",
       "</style>\n",
       "<table border=\"1\" class=\"dataframe\">\n",
       "  <thead>\n",
       "    <tr style=\"text-align: right;\">\n",
       "      <th></th>\n",
       "      <th>day</th>\n",
       "      <th>Open</th>\n",
       "      <th>High</th>\n",
       "      <th>Low</th>\n",
       "      <th>Close</th>\n",
       "      <th>9-day</th>\n",
       "      <th>21-day</th>\n",
       "      <th>signal</th>\n",
       "      <th>return</th>\n",
       "      <th>system_return</th>\n",
       "      <th>entry</th>\n",
       "      <th>Return</th>\n",
       "    </tr>\n",
       "    <tr>\n",
       "      <th>Date</th>\n",
       "      <th></th>\n",
       "      <th></th>\n",
       "      <th></th>\n",
       "      <th></th>\n",
       "      <th></th>\n",
       "      <th></th>\n",
       "      <th></th>\n",
       "      <th></th>\n",
       "      <th></th>\n",
       "      <th></th>\n",
       "      <th></th>\n",
       "      <th></th>\n",
       "    </tr>\n",
       "  </thead>\n",
       "  <tbody>\n",
       "    <tr>\n",
       "      <th>2005-01-18</th>\n",
       "      <td>41</td>\n",
       "      <td>42.220001</td>\n",
       "      <td>42.380001</td>\n",
       "      <td>42.150002</td>\n",
       "      <td>42.320000</td>\n",
       "      <td>42.295555</td>\n",
       "      <td>NaN</td>\n",
       "      <td>-1</td>\n",
       "      <td>0.000000</td>\n",
       "      <td>-0.000000</td>\n",
       "      <td>0.0</td>\n",
       "      <td>0.000000</td>\n",
       "    </tr>\n",
       "    <tr>\n",
       "      <th>2005-01-19</th>\n",
       "      <td>42</td>\n",
       "      <td>42.650002</td>\n",
       "      <td>42.650002</td>\n",
       "      <td>42.200001</td>\n",
       "      <td>42.259998</td>\n",
       "      <td>42.250000</td>\n",
       "      <td>43.127143</td>\n",
       "      <td>-1</td>\n",
       "      <td>-0.001419</td>\n",
       "      <td>0.001419</td>\n",
       "      <td>0.0</td>\n",
       "      <td>-0.001419</td>\n",
       "    </tr>\n",
       "    <tr>\n",
       "      <th>2005-01-20</th>\n",
       "      <td>43</td>\n",
       "      <td>42.119999</td>\n",
       "      <td>42.320000</td>\n",
       "      <td>42.110001</td>\n",
       "      <td>42.250000</td>\n",
       "      <td>42.261111</td>\n",
       "      <td>43.027619</td>\n",
       "      <td>-1</td>\n",
       "      <td>-0.000237</td>\n",
       "      <td>0.000237</td>\n",
       "      <td>0.0</td>\n",
       "      <td>-0.000237</td>\n",
       "    </tr>\n",
       "    <tr>\n",
       "      <th>2005-01-21</th>\n",
       "      <td>44</td>\n",
       "      <td>42.320000</td>\n",
       "      <td>42.820000</td>\n",
       "      <td>42.290001</td>\n",
       "      <td>42.740002</td>\n",
       "      <td>42.361111</td>\n",
       "      <td>42.957143</td>\n",
       "      <td>-1</td>\n",
       "      <td>0.011531</td>\n",
       "      <td>-0.011531</td>\n",
       "      <td>0.0</td>\n",
       "      <td>0.011531</td>\n",
       "    </tr>\n",
       "    <tr>\n",
       "      <th>2005-01-24</th>\n",
       "      <td>45</td>\n",
       "      <td>42.740002</td>\n",
       "      <td>42.820000</td>\n",
       "      <td>42.669998</td>\n",
       "      <td>42.770000</td>\n",
       "      <td>42.452222</td>\n",
       "      <td>42.897619</td>\n",
       "      <td>-1</td>\n",
       "      <td>0.000702</td>\n",
       "      <td>-0.000702</td>\n",
       "      <td>0.0</td>\n",
       "      <td>0.000702</td>\n",
       "    </tr>\n",
       "    <tr>\n",
       "      <th>2005-01-25</th>\n",
       "      <td>46</td>\n",
       "      <td>42.529999</td>\n",
       "      <td>42.560001</td>\n",
       "      <td>42.099998</td>\n",
       "      <td>42.240002</td>\n",
       "      <td>42.455555</td>\n",
       "      <td>42.800952</td>\n",
       "      <td>-1</td>\n",
       "      <td>-0.012469</td>\n",
       "      <td>0.012469</td>\n",
       "      <td>0.0</td>\n",
       "      <td>-0.012469</td>\n",
       "    </tr>\n",
       "  </tbody>\n",
       "</table>\n",
       "</div>"
      ],
      "text/plain": [
       "            day       Open       High        Low      Close      9-day  \\\n",
       "Date                                                                     \n",
       "2005-01-18   41  42.220001  42.380001  42.150002  42.320000  42.295555   \n",
       "2005-01-19   42  42.650002  42.650002  42.200001  42.259998  42.250000   \n",
       "2005-01-20   43  42.119999  42.320000  42.110001  42.250000  42.261111   \n",
       "2005-01-21   44  42.320000  42.820000  42.290001  42.740002  42.361111   \n",
       "2005-01-24   45  42.740002  42.820000  42.669998  42.770000  42.452222   \n",
       "2005-01-25   46  42.529999  42.560001  42.099998  42.240002  42.455555   \n",
       "\n",
       "               21-day  signal    return  system_return  entry    Return  \n",
       "Date                                                                     \n",
       "2005-01-18        NaN      -1  0.000000      -0.000000    0.0  0.000000  \n",
       "2005-01-19  43.127143      -1 -0.001419       0.001419    0.0 -0.001419  \n",
       "2005-01-20  43.027619      -1 -0.000237       0.000237    0.0 -0.000237  \n",
       "2005-01-21  42.957143      -1  0.011531      -0.011531    0.0  0.011531  \n",
       "2005-01-24  42.897619      -1  0.000702      -0.000702    0.0  0.000702  \n",
       "2005-01-25  42.800952      -1 -0.012469       0.012469    0.0 -0.012469  "
      ]
     },
     "execution_count": 51,
     "metadata": {},
     "output_type": "execute_result"
    }
   ],
   "source": [
    "gld[19:25]"
   ]
  },
  {
   "attachments": {},
   "cell_type": "markdown",
   "metadata": {},
   "source": [
    "#### Add a \"signal\" column"
   ]
  },
  {
   "cell_type": "code",
   "execution_count": 52,
   "metadata": {},
   "outputs": [
    {
     "name": "stderr",
     "output_type": "stream",
     "text": [
      "C:\\Users\\Bruger\\AppData\\Local\\Temp\\ipykernel_30608\\428009204.py:1: SettingWithCopyWarning: \n",
      "A value is trying to be set on a copy of a slice from a DataFrame.\n",
      "Try using .loc[row_indexer,col_indexer] = value instead\n",
      "\n",
      "See the caveats in the documentation: https://pandas.pydata.org/pandas-docs/stable/user_guide/indexing.html#returning-a-view-versus-a-copy\n",
      "  gld['signal'] = np.where(gld['9-day'] > gld['21-day'], 1, 0)\n",
      "C:\\Users\\Bruger\\AppData\\Local\\Temp\\ipykernel_30608\\428009204.py:2: SettingWithCopyWarning: \n",
      "A value is trying to be set on a copy of a slice from a DataFrame.\n",
      "Try using .loc[row_indexer,col_indexer] = value instead\n",
      "\n",
      "See the caveats in the documentation: https://pandas.pydata.org/pandas-docs/stable/user_guide/indexing.html#returning-a-view-versus-a-copy\n",
      "  gld['signal'] = np.where(gld['9-day'] < gld['21-day'], -1, gld['signal'])\n",
      "C:\\Users\\Bruger\\AppData\\Local\\Temp\\ipykernel_30608\\428009204.py:3: SettingWithCopyWarning: \n",
      "A value is trying to be set on a copy of a slice from a DataFrame\n",
      "\n",
      "See the caveats in the documentation: https://pandas.pydata.org/pandas-docs/stable/user_guide/indexing.html#returning-a-view-versus-a-copy\n",
      "  gld.dropna(inplace=True)\n"
     ]
    }
   ],
   "source": [
    "gld['signal'] = np.where(gld['9-day'] > gld['21-day'], 1, 0)\n",
    "gld['signal'] = np.where(gld['9-day'] < gld['21-day'], -1, gld['signal'])\n",
    "gld.dropna(inplace=True)\n"
   ]
  },
  {
   "cell_type": "code",
   "execution_count": 53,
   "metadata": {},
   "outputs": [
    {
     "data": {
      "text/html": [
       "<div>\n",
       "<style scoped>\n",
       "    .dataframe tbody tr th:only-of-type {\n",
       "        vertical-align: middle;\n",
       "    }\n",
       "\n",
       "    .dataframe tbody tr th {\n",
       "        vertical-align: top;\n",
       "    }\n",
       "\n",
       "    .dataframe thead th {\n",
       "        text-align: right;\n",
       "    }\n",
       "</style>\n",
       "<table border=\"1\" class=\"dataframe\">\n",
       "  <thead>\n",
       "    <tr style=\"text-align: right;\">\n",
       "      <th></th>\n",
       "      <th>day</th>\n",
       "      <th>Open</th>\n",
       "      <th>High</th>\n",
       "      <th>Low</th>\n",
       "      <th>Close</th>\n",
       "      <th>9-day</th>\n",
       "      <th>21-day</th>\n",
       "      <th>signal</th>\n",
       "      <th>return</th>\n",
       "      <th>system_return</th>\n",
       "      <th>entry</th>\n",
       "      <th>Return</th>\n",
       "    </tr>\n",
       "    <tr>\n",
       "      <th>Date</th>\n",
       "      <th></th>\n",
       "      <th></th>\n",
       "      <th></th>\n",
       "      <th></th>\n",
       "      <th></th>\n",
       "      <th></th>\n",
       "      <th></th>\n",
       "      <th></th>\n",
       "      <th></th>\n",
       "      <th></th>\n",
       "      <th></th>\n",
       "      <th></th>\n",
       "    </tr>\n",
       "  </thead>\n",
       "  <tbody>\n",
       "    <tr>\n",
       "      <th>2005-01-19</th>\n",
       "      <td>42</td>\n",
       "      <td>42.650002</td>\n",
       "      <td>42.650002</td>\n",
       "      <td>42.200001</td>\n",
       "      <td>42.259998</td>\n",
       "      <td>42.250000</td>\n",
       "      <td>43.127143</td>\n",
       "      <td>-1</td>\n",
       "      <td>-0.001419</td>\n",
       "      <td>0.001419</td>\n",
       "      <td>0.0</td>\n",
       "      <td>-0.001419</td>\n",
       "    </tr>\n",
       "    <tr>\n",
       "      <th>2005-01-20</th>\n",
       "      <td>43</td>\n",
       "      <td>42.119999</td>\n",
       "      <td>42.320000</td>\n",
       "      <td>42.110001</td>\n",
       "      <td>42.250000</td>\n",
       "      <td>42.261111</td>\n",
       "      <td>43.027619</td>\n",
       "      <td>-1</td>\n",
       "      <td>-0.000237</td>\n",
       "      <td>0.000237</td>\n",
       "      <td>0.0</td>\n",
       "      <td>-0.000237</td>\n",
       "    </tr>\n",
       "    <tr>\n",
       "      <th>2005-01-21</th>\n",
       "      <td>44</td>\n",
       "      <td>42.320000</td>\n",
       "      <td>42.820000</td>\n",
       "      <td>42.290001</td>\n",
       "      <td>42.740002</td>\n",
       "      <td>42.361111</td>\n",
       "      <td>42.957143</td>\n",
       "      <td>-1</td>\n",
       "      <td>0.011531</td>\n",
       "      <td>-0.011531</td>\n",
       "      <td>0.0</td>\n",
       "      <td>0.011531</td>\n",
       "    </tr>\n",
       "    <tr>\n",
       "      <th>2005-01-24</th>\n",
       "      <td>45</td>\n",
       "      <td>42.740002</td>\n",
       "      <td>42.820000</td>\n",
       "      <td>42.669998</td>\n",
       "      <td>42.770000</td>\n",
       "      <td>42.452222</td>\n",
       "      <td>42.897619</td>\n",
       "      <td>-1</td>\n",
       "      <td>0.000702</td>\n",
       "      <td>-0.000702</td>\n",
       "      <td>0.0</td>\n",
       "      <td>0.000702</td>\n",
       "    </tr>\n",
       "    <tr>\n",
       "      <th>2005-01-25</th>\n",
       "      <td>46</td>\n",
       "      <td>42.529999</td>\n",
       "      <td>42.560001</td>\n",
       "      <td>42.099998</td>\n",
       "      <td>42.240002</td>\n",
       "      <td>42.455555</td>\n",
       "      <td>42.800952</td>\n",
       "      <td>-1</td>\n",
       "      <td>-0.012469</td>\n",
       "      <td>0.012469</td>\n",
       "      <td>0.0</td>\n",
       "      <td>-0.012469</td>\n",
       "    </tr>\n",
       "    <tr>\n",
       "      <th>...</th>\n",
       "      <td>...</td>\n",
       "      <td>...</td>\n",
       "      <td>...</td>\n",
       "      <td>...</td>\n",
       "      <td>...</td>\n",
       "      <td>...</td>\n",
       "      <td>...</td>\n",
       "      <td>...</td>\n",
       "      <td>...</td>\n",
       "      <td>...</td>\n",
       "      <td>...</td>\n",
       "      <td>...</td>\n",
       "    </tr>\n",
       "    <tr>\n",
       "      <th>2023-01-09</th>\n",
       "      <td>4566</td>\n",
       "      <td>174.509995</td>\n",
       "      <td>175.039993</td>\n",
       "      <td>173.880005</td>\n",
       "      <td>174.100006</td>\n",
       "      <td>170.792224</td>\n",
       "      <td>168.729048</td>\n",
       "      <td>1</td>\n",
       "      <td>0.002243</td>\n",
       "      <td>0.002243</td>\n",
       "      <td>0.0</td>\n",
       "      <td>0.002243</td>\n",
       "    </tr>\n",
       "    <tr>\n",
       "      <th>2023-01-10</th>\n",
       "      <td>4567</td>\n",
       "      <td>174.610001</td>\n",
       "      <td>174.979996</td>\n",
       "      <td>174.059998</td>\n",
       "      <td>174.740005</td>\n",
       "      <td>171.466670</td>\n",
       "      <td>169.122858</td>\n",
       "      <td>1</td>\n",
       "      <td>0.003669</td>\n",
       "      <td>0.003669</td>\n",
       "      <td>0.0</td>\n",
       "      <td>0.003669</td>\n",
       "    </tr>\n",
       "    <tr>\n",
       "      <th>2023-01-11</th>\n",
       "      <td>4568</td>\n",
       "      <td>174.759995</td>\n",
       "      <td>174.789993</td>\n",
       "      <td>173.720001</td>\n",
       "      <td>174.619995</td>\n",
       "      <td>172.212224</td>\n",
       "      <td>169.482858</td>\n",
       "      <td>1</td>\n",
       "      <td>-0.000687</td>\n",
       "      <td>-0.000687</td>\n",
       "      <td>0.0</td>\n",
       "      <td>-0.000687</td>\n",
       "    </tr>\n",
       "    <tr>\n",
       "      <th>2023-01-12</th>\n",
       "      <td>4569</td>\n",
       "      <td>176.009995</td>\n",
       "      <td>176.710007</td>\n",
       "      <td>174.880005</td>\n",
       "      <td>176.639999</td>\n",
       "      <td>173.077779</td>\n",
       "      <td>170.004763</td>\n",
       "      <td>1</td>\n",
       "      <td>0.011502</td>\n",
       "      <td>0.011502</td>\n",
       "      <td>0.0</td>\n",
       "      <td>0.011502</td>\n",
       "    </tr>\n",
       "    <tr>\n",
       "      <th>2023-01-13</th>\n",
       "      <td>4570</td>\n",
       "      <td>176.960007</td>\n",
       "      <td>178.830002</td>\n",
       "      <td>176.889999</td>\n",
       "      <td>178.759995</td>\n",
       "      <td>174.091112</td>\n",
       "      <td>170.492858</td>\n",
       "      <td>1</td>\n",
       "      <td>0.011930</td>\n",
       "      <td>0.011930</td>\n",
       "      <td>0.0</td>\n",
       "      <td>0.011930</td>\n",
       "    </tr>\n",
       "  </tbody>\n",
       "</table>\n",
       "<p>4529 rows × 12 columns</p>\n",
       "</div>"
      ],
      "text/plain": [
       "             day        Open        High         Low       Close       9-day  \\\n",
       "Date                                                                           \n",
       "2005-01-19    42   42.650002   42.650002   42.200001   42.259998   42.250000   \n",
       "2005-01-20    43   42.119999   42.320000   42.110001   42.250000   42.261111   \n",
       "2005-01-21    44   42.320000   42.820000   42.290001   42.740002   42.361111   \n",
       "2005-01-24    45   42.740002   42.820000   42.669998   42.770000   42.452222   \n",
       "2005-01-25    46   42.529999   42.560001   42.099998   42.240002   42.455555   \n",
       "...          ...         ...         ...         ...         ...         ...   \n",
       "2023-01-09  4566  174.509995  175.039993  173.880005  174.100006  170.792224   \n",
       "2023-01-10  4567  174.610001  174.979996  174.059998  174.740005  171.466670   \n",
       "2023-01-11  4568  174.759995  174.789993  173.720001  174.619995  172.212224   \n",
       "2023-01-12  4569  176.009995  176.710007  174.880005  176.639999  173.077779   \n",
       "2023-01-13  4570  176.960007  178.830002  176.889999  178.759995  174.091112   \n",
       "\n",
       "                21-day  signal    return  system_return  entry    Return  \n",
       "Date                                                                      \n",
       "2005-01-19   43.127143      -1 -0.001419       0.001419    0.0 -0.001419  \n",
       "2005-01-20   43.027619      -1 -0.000237       0.000237    0.0 -0.000237  \n",
       "2005-01-21   42.957143      -1  0.011531      -0.011531    0.0  0.011531  \n",
       "2005-01-24   42.897619      -1  0.000702      -0.000702    0.0  0.000702  \n",
       "2005-01-25   42.800952      -1 -0.012469       0.012469    0.0 -0.012469  \n",
       "...                ...     ...       ...            ...    ...       ...  \n",
       "2023-01-09  168.729048       1  0.002243       0.002243    0.0  0.002243  \n",
       "2023-01-10  169.122858       1  0.003669       0.003669    0.0  0.003669  \n",
       "2023-01-11  169.482858       1 -0.000687      -0.000687    0.0 -0.000687  \n",
       "2023-01-12  170.004763       1  0.011502       0.011502    0.0  0.011502  \n",
       "2023-01-13  170.492858       1  0.011930       0.011930    0.0  0.011930  \n",
       "\n",
       "[4529 rows x 12 columns]"
      ]
     },
     "execution_count": 53,
     "metadata": {},
     "output_type": "execute_result"
    }
   ],
   "source": [
    "gld"
   ]
  },
  {
   "cell_type": "code",
   "execution_count": 54,
   "metadata": {},
   "outputs": [
    {
     "name": "stderr",
     "output_type": "stream",
     "text": [
      "C:\\Users\\Bruger\\AppData\\Local\\Temp\\ipykernel_30608\\2278904795.py:1: SettingWithCopyWarning: \n",
      "A value is trying to be set on a copy of a slice from a DataFrame.\n",
      "Try using .loc[row_indexer,col_indexer] = value instead\n",
      "\n",
      "See the caveats in the documentation: https://pandas.pydata.org/pandas-docs/stable/user_guide/indexing.html#returning-a-view-versus-a-copy\n",
      "  gld['Return'] = np.log(gld['Close']).diff()\n",
      "C:\\Users\\Bruger\\AppData\\Local\\Temp\\ipykernel_30608\\2278904795.py:2: SettingWithCopyWarning: \n",
      "A value is trying to be set on a copy of a slice from a DataFrame.\n",
      "Try using .loc[row_indexer,col_indexer] = value instead\n",
      "\n",
      "See the caveats in the documentation: https://pandas.pydata.org/pandas-docs/stable/user_guide/indexing.html#returning-a-view-versus-a-copy\n",
      "  gld['system_return'] = gld['signal'] * gld['Return']\n",
      "C:\\Users\\Bruger\\AppData\\Local\\Temp\\ipykernel_30608\\2278904795.py:3: SettingWithCopyWarning: \n",
      "A value is trying to be set on a copy of a slice from a DataFrame.\n",
      "Try using .loc[row_indexer,col_indexer] = value instead\n",
      "\n",
      "See the caveats in the documentation: https://pandas.pydata.org/pandas-docs/stable/user_guide/indexing.html#returning-a-view-versus-a-copy\n",
      "  gld['entry'] = gld.signal.diff()\n"
     ]
    }
   ],
   "source": [
    "gld['Return'] = np.log(gld['Close']).diff()\n",
    "gld['system_return'] = gld['signal'] * gld['Return']\n",
    "gld['entry'] = gld.signal.diff()\n"
   ]
  },
  {
   "attachments": {},
   "cell_type": "markdown",
   "metadata": {},
   "source": [
    "#### Plot trades on time series"
   ]
  },
  {
   "cell_type": "code",
   "execution_count": 55,
   "metadata": {},
   "outputs": [
    {
     "data": {
      "image/png": "[encoded data removed]",
      "text/plain": [
       "<Figure size 864x432 with 1 Axes>"
      ]
     },
     "metadata": {
      "needs_background": "light"
     },
     "output_type": "display_data"
    }
   ],
   "source": [
    "plt.rcParams['figure.figsize'] = 12,6\n",
    "plt.grid(True, alpha=.3)\n",
    "plt.plot(gld.iloc[-252:]['Close'], label = 'GLD')\n",
    "plt.plot(gld.iloc[-252:]['9-day'], label = '9-day')\n",
    "plt.plot(gld.iloc[-252:]['21-day'], label = '21-day')\n",
    "plt.plot(gld.iloc[-252:].loc[gld.entry == 2].index, gld[-252:]['9-day'][gld.entry == 2], '^',\n",
    "        color = 'g', markersize = 12)\n",
    "\n",
    "plt.plot(gld.iloc[-252:].loc[gld.entry == -2].index, gld[-252:]['21-day'][gld.entry == -2], 'v',\n",
    "        color = 'r', markersize = 12)\n",
    "plt.legend(loc=2);"
   ]
  },
  {
   "cell_type": "code",
   "execution_count": 56,
   "metadata": {},
   "outputs": [
    {
     "name": "stderr",
     "output_type": "stream",
     "text": [
      "C:\\Users\\Bruger\\AppData\\Local\\Temp\\ipykernel_30608\\708173815.py:1: SettingWithCopyWarning: \n",
      "A value is trying to be set on a copy of a slice from a DataFrame.\n",
      "Try using .loc[row_indexer,col_indexer] = value instead\n",
      "\n",
      "See the caveats in the documentation: https://pandas.pydata.org/pandas-docs/stable/user_guide/indexing.html#returning-a-view-versus-a-copy\n",
      "  gld['system_return'] = gld.signal * gld.Return\n"
     ]
    },
    {
     "data": {
      "image/png": "[encoded data removed]",
      "text/plain": [
       "<Figure size 864x432 with 1 Axes>"
      ]
     },
     "metadata": {
      "needs_background": "light"
     },
     "output_type": "display_data"
    }
   ],
   "source": [
    "gld['system_return'] = gld.signal * gld.Return \n",
    "plt.plot(np.exp(gld.Return).cumprod(), label = 'Buy/Hold')\n",
    "plt.plot(np.exp(gld.system_return).cumprod(), label = 'System')\n",
    "plt.legend(loc=2)\n",
    "plt.grid(True,alpha=.3)"
   ]
  },
  {
   "cell_type": "code",
   "execution_count": 57,
   "metadata": {},
   "outputs": [
    {
     "data": {
      "text/plain": [
       "3.224007462096006"
      ]
     },
     "execution_count": 57,
     "metadata": {},
     "output_type": "execute_result"
    }
   ],
   "source": [
    "np.exp(gld['return']).cumprod()[-1] -1"
   ]
  },
  {
   "cell_type": "code",
   "execution_count": 58,
   "metadata": {},
   "outputs": [
    {
     "data": {
      "text/plain": [
       "7.807087568521014"
      ]
     },
     "execution_count": 58,
     "metadata": {},
     "output_type": "execute_result"
    }
   ],
   "source": [
    "np.exp(gld['system_return']).cumprod()[-1] -1"
   ]
  },
  {
   "cell_type": "code",
   "execution_count": null,
   "metadata": {},
   "outputs": [],
   "source": []
  }
 ],
 "metadata": {
  "kernelspec": {
   "display_name": ".venv",
   "language": "python",
   "name": "python3"
  },
  "language_info": {
   "codemirror_mode": {
    "name": "ipython",
    "version": 3
   },
   "file_extension": ".py",
   "mimetype": "text/x-python",
   "name": "python",
   "nbconvert_exporter": "python",
   "pygments_lexer": "ipython3",
   "version": "3.10.0"
  },
  "orig_nbformat": 4,
  "vscode": {
   "interpreter": {
    "hash": "2590b067655b4efbefdfc89bcbe63220f2bed4c70a5b65fec08921869d5cbc69"
   }
  }
 },
 "nbformat": 4,
 "nbformat_minor": 2
}
